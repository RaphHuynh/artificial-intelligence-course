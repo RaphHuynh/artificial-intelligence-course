{
 "cells": [
  {
   "cell_type": "markdown",
   "metadata": {},
   "source": [
    "# Introduction to Machine Learning\n",
    "\n",
    "Machine learning is a branch of artificial intelligence that develops techniques for computers (machines) to learn from data and improve their performance.\n",
    "\n",
    "Machine learning aims to address 5 major problems:\n",
    "- Classification\n",
    "- Regression\n",
    "- Clustering\n",
    "- Time series\n",
    "- Dimensionality reduction\n",
    "\n",
    "## Classification\n",
    "\n",
    "Classification is a process that groups objects, data, entities, etc. into categories or classes based on common characteristics.\n",
    "\n",
    "For example:\n",
    "\n",
    "- A classification model can classify images, such as flowers or trees, if trained to do so.\n",
    "\n",
    "## Regression\n",
    "\n",
    "Regression in AI involves training models to predict a numerical value based on input data.\n",
    "\n",
    "For example:\n",
    "\n",
    "- With real estate price data in a city, a regression model can be used to predict future prices.\n",
    "\n",
    "## Clustering\n",
    "\n",
    "Clustering is a learning technique that groups sets of data with common similarities into clusters.\n",
    "\n",
    "For example:\n",
    "\n",
    "- To group different types of customers based on their characteristics.\n",
    "\n",
    "## Time Series\n",
    "\n",
    "Time series in AI refers to data collected, retrieved, or generated in chronological order. This allows for forecasting a variable over time.\n",
    "\n",
    "For example:\n",
    "\n",
    "- Tracking the temperature data over time to make predictions.\n",
    "\n",
    "## Dimensionality Reduction\n",
    "\n",
    "Dimensionality reduction involves reducing the amount of data (variables/characteristics) used to train a model. It helps reduce computation time, simplify data analysis, and facilitate visualization.\n",
    "\n",
    "For example:\n",
    "\n",
    "- In facial recognition, face images can be very large (e.g., 4k resolution). Dimensionality reduction in this case helps reduce the image dimension while preserving important features.\n"
   ]
  },
  {
   "cell_type": "markdown",
   "metadata": {},
   "source": []
  }
 ],
 "metadata": {
  "language_info": {
   "name": "python"
  }
 },
 "nbformat": 4,
 "nbformat_minor": 2
}
