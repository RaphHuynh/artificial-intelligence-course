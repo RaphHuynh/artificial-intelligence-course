{
 "cells": [
  {
   "cell_type": "markdown",
   "metadata": {},
   "source": [
    "# Deep Learning\n",
    "\n",
    "Deep learning is a subcategory of machine learning. It focuses on learning representations of complex or unstructured data such as images, texts, or sounds. To achieve this, artificial neural networks are used to train different models to process this data.\n",
    "\n",
    "## What is a Neural Network\n",
    "\n",
    "Neural networks are models composed of multiple layers of interconnected neurons. Each layer processes incoming data through its neurons and extracts features from this data during training.\n",
    "\n",
    "## What is a Neuron\n",
    "\n",
    "A neuron or perceptron simulates the functioning of biological neurons in the brain.\n",
    "\n",
    "The neuron receives input data, which are numerical values representing different features or variables. Each input has a \"weight\" that represents its importance to the neuron.\n",
    "\n",
    "Weights are coefficients (values) that modify the importance of each input. A high weight means that the input is more important, while a low weight is less important and therefore has less impact. The weights are adjusted during the model's training.\n",
    "\n",
    "In addition to weights, there are also biases. Indeed, a neuron has a bias. The bias is a constant that allows controlling the output even when the inputs are zero. Unlike the weights of the neuron, the bias controls what is called the neuron's activation level.\n",
    "\n",
    "In summary, a neuron has an input, a weight, a bias (also called a threshold), and an output.\n",
    "\n",
    "An input is the data that enters the neuron.\n",
    "\n",
    "## Mathematical Representation of a Neuron\n",
    "\n",
    "Linear calculation representing a neuron: $z=\\sum_{i=1}^n w_i.x_i+bias$\n",
    "\n",
    "- w represents the weights\n",
    "\n",
    "- x represents the value of the input data\n",
    "\n",
    "x and w are scalars.\n",
    "\n",
    "To produce the output $y$ of the neuron, we use an activation function $y=f(z)$.\n",
    "\n",
    "The activation function is a mathematical function that is applied to the output of an artificial neuron to add a nonlinear aspect to the model. This nonlinearity is important to allow neural networks to learn and represent relationships between input and output variables. There are several types of nonlinear functions.\n",
    "\n",
    "For example, the sigmoid function:\n",
    "\n",
    "$\\sigma(z)=\\frac{1}{1+e^{-z}}$"
   ]
  }
 ],
 "metadata": {
  "language_info": {
   "name": "python"
  }
 },
 "nbformat": 4,
 "nbformat_minor": 2
}
