{
 "cells": [
  {
   "cell_type": "markdown",
   "metadata": {},
   "source": [
    "# Arbre de décision\n",
    "\n",
    "Un arbre de décision est un outil qui permet d'aider à prendre des décisions en représentant un ensemble de choix possibles sous forme de graphes ou d'arbres. En intelligence artificielle un arbre de décision est un modèle permettant de prendre des décisions en fonction des données fournies.\n",
    "\n",
    "## Schéma arbre de décision et son fonctionnement\n",
    "\n",
    "![decision_tree.png](../../../../img/decision_tree.png)\n",
    "\n",
    "L'arbre de décision se construit au fur et à mesure. Au début, toutes les données disponibles sont considérées à la racine de notre arbre.\n",
    "Notre algorithme va ensuite sélectionner une caractéristique des données pour diviser les données en ensemble de données. Notre objectif est de choisir la caractéristique qui divise le mieux les données afin de former des sous-groupes homogènes.  Une fois qu'on a choisi nos caractéristiques on divise donc nos données et chaque sous-ensemble correspondent à une branche de notre arbre. L'étape est répétée jusqu'à correspondre à un critère d'arrêt donc à une feuille.\n",
    "\n",
    "En résumé, au fur et à mesure qu'on divise les données l'arbre se construit. Chaque noeud correspond à une caractéristique de division, chaque branche correspond à une valeur possible de cette caractéristique et chaque feuille représente une prédiction ou une classe.\n",
    "\n",
    "Racine :\n",
    "- La racine de l'arbre représente l'ensemble des données.\n",
    "\n",
    "Branche :\n",
    "- Cela représente une valeur possible d'une caractéristique.\n",
    "\n",
    "Noeud :\n",
    "- Le noeud représente une caractéristique pour diviser les données.\n",
    "\n",
    "Feuille :\n",
    "- Les branches se terminent par des feuilles et ses feuilles représentent les résultats finaux de notre arbre de décision.\n",
    "\n",
    "Maintenant nous allons voir différents algorithmes pour créer des arbres de décisions et voir les différentes biblothèques qui en implémentent afin de résoudre des problèmes avec ces arbres de décisions."
   ]
  }
 ],
 "metadata": {
  "language_info": {
   "name": "python"
  }
 },
 "nbformat": 4,
 "nbformat_minor": 2
}
