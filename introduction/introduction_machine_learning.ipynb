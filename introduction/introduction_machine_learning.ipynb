{
 "cells": [
  {
   "cell_type": "markdown",
   "metadata": {},
   "source": [
    "# Introduction aux machine learning / Apprentissage machine\n",
    "\n",
    "Le machine learning est une branche de l'intelligence artificielle qui se développe des techniques permettant aux ordinateurs (machines) d'apprendre à partir de données et d'améliorer leurs performances.\n",
    "\n",
    "Le machine learning a pour objectif de répondre à 5 grands problèmes :\n",
    "- La classification\n",
    "- La régression\n",
    "- Les clusteurs\n",
    "- Les séries temporelles\n",
    "- La réduction de dimension\n",
    "\n",
    "## Classification\n",
    "\n",
    "## Régression\n",
    "\n",
    "## Clustering\n",
    "\n",
    "## Séries temporelles (Times series)\n",
    "\n",
    "## Réduction de dimension"
   ]
  }
 ],
 "metadata": {
  "language_info": {
   "name": "python"
  }
 },
 "nbformat": 4,
 "nbformat_minor": 2
}
