{
 "cells": [
  {
   "cell_type": "markdown",
   "metadata": {},
   "source": [
    "# L'apprentissage profond ou deep learning\n",
    "\n",
    "L'apprentissage profond ou deep learning est une sous catégorie du machine learning. Il se concentre sur l'apprentissage de représentations de données complexes ou non structurées comme des images, des textes ou des sons. Pour cela, on va utiliser des réseaux de neurones artificiels pour apprendre aux différents modèles à traiter ces données.\n",
    "\n",
    "## Qu'est ce qu'un réseaux de neurones\n",
    "\n",
    "Les réseaux de neurones sont des modèles composés de plusieurs couches de neurones qui sont interconnectées. Chaque couche va traiter via ses neurones les données entrantes et extraire des caractéristiques de ces données au fur et à mesure de l'entrainement.\n",
    "\n",
    "## Qu'est ce qu'un neurone\n",
    "\n",
    "Un neurone ou perceptron permet de simuler le fonctionnement des neurones biologiques du cerveau.\n",
    "\n",
    "Le neurone va recevoir des entrées de données qui sont des valeurs numériques qui représentent différentes caractéristiques ou variables. Chaque entrée possède un \"poids\" qui représente son importance pour le neurone.\n",
    "\n",
    "Les poids sont des coefficients (des valeurs) qui vont modifier l'importance de chaque entrées. Un poids élevé signifie que l'entrée est plus importante tandis qu'un poids faible sera moins important et aura donc moins d'impacte. Les poids sont ajustés au fur et à mesure de l'entrainement du modèle.\n",
    "\n",
    "En plus des poids il y a aussi les biais. En effet, un neurone possède un biais. Le biais est une constante elle permet de contrôler la sortie même quand les entrées sont nulles. Effectivement, contrairement au poids du neurones le biais permet de contrôler ce qu'on appelle le niveau d'activiation du neurone.\n",
    "\n",
    "En résumé un neurone possède une entrée, un poids, un biais aussi appelé seuil et une sortie.\n",
    "\n",
    "Une entrée c'est la donnée qui entre dans le neurone.\n",
    "\n",
    "## Réprésentation mathématique d'un neurone\n",
    "\n",
    "Calcul linéaire représentant un neurone : $z=\\sum_{i=1}^n w_i.x_i+biais$\n",
    "\n",
    "- w représente les poids\n",
    "\n",
    "- x représente la valeur de la donnée d'entrée\n",
    "\n",
    "x et w étant des scalaires.\n",
    "\n",
    "Ensuite pour produire la sortie $y$ du neurone on va utiliser une fonction d'activation $y=f(z)$\n",
    "\n",
    "La fonction d'activation est une fonction mathématique qui est appliqué à la sortie d'un neurone artificiel afin de rajouter un aspect non-linéaire au modèle. Cette non-linéarité est importante afin de permettre aux réseaux de neurones d'apprendre et de représenter des relations entre les variables d'entrée et de sortie. Il existe plusieurs types de fonctions non-linéaire.\n",
    "\n",
    "Par exemple la fonction sigmoïde :\n",
    "\n",
    "$\\sigma(z)=\\frac{1}{1+e^{-z}}$"
   ]
  },
  {
   "cell_type": "code",
   "execution_count": 2,
   "metadata": {},
   "outputs": [
    {
     "data": {
      "image/png": "[encoded data removed]",
      "text/plain": [
       "<Figure size 300x200 with 1 Axes>"
      ]
     },
     "metadata": {},
     "output_type": "display_data"
    }
   ],
   "source": [
    "import matplotlib.pyplot as plt\n",
    "import numpy as np\n",
    "\n",
    "def sigmoid(z):\n",
    "    return 1/(1+np.exp(-z))\n",
    "\n",
    "z = np.linspace(-10,10,100)\n",
    "y = sigmoid(z)\n",
    "\n",
    "plt.figure(figsize=(3, 2))\n",
    "plt.plot(z, y,color='blue')\n",
    "plt.xlabel('z')\n",
    "plt.ylabel('σ(z)')\n",
    "plt.title('Fonction sigmoïde')\n",
    "plt.grid(True)\n",
    "plt.show()"
   ]
  },
  {
   "cell_type": "markdown",
   "metadata": {},
   "source": [
    "## Comment communiquent et fonctionnent les couches entre elles\n",
    "\n",
    "Les réseaux de neurones sont généralement composés de plusieurs couches, chacune ayant un rôle spécifique dans le traitement des données et l'extraction des caractéristiques. La communication entre ces couches se fait via les poids des connexions entre les neurones, ainsi que par l'application de fonctions d'activation à chaque couche comme nous avons pu le constater mais il y a d'autres points à traiter.\n",
    "\n",
    "### Propagation avant (Forward Propagation)\n",
    "\n",
    "La propagation avant est le processus par lequel les données sont propagées à travers le réseau de neurones, de la couche d'entrée à la couche de sortie. Les entrées sont pondérées pour chaque couche par les poids des connexions et passées à travers une fonction d'activation pour calculer les sorties des neurones.\n",
    "\n",
    "### Rétropropagation (Backpropagation)\n",
    "\n",
    "La rétropropagation est le processus par lequel les erreurs sont propagées à travers le réseau de neurones afin d'ajuster les poids des connexions et d'améliorer les performances du modèle. Cette technique utilise le gradient de l'erreur par rapport aux poids pour mettre à jour les poids de manière à minimiser l'erreur globale du modèle.\n",
    "\n",
    "#### Qu'est ce que le gradient de l'erreur ?\n",
    "\n",
    "Le gradient de l'erreur indique dans quelle direction et dans quelle mesure les paramètres du modèle doivent être modifiés pour minimiser l'erreur du modèle.\n",
    "\n",
    "Le gradient de l'erreur mesure la pente de la fonction d'erreur par rapport à chaque paramètre du modèle. Une pente positive indique que l'erreur du modèle augmente lorsque le paramètre augmente, tandis qu'une pente négative indique que l'erreur du modèle diminue lorsque le paramètre augmente.\n"
   ]
  }
 ],
 "metadata": {
  "kernelspec": {
   "display_name": "base",
   "language": "python",
   "name": "python3"
  },
  "language_info": {
   "codemirror_mode": {
    "name": "ipython",
    "version": 3
   },
   "file_extension": ".py",
   "mimetype": "text/x-python",
   "name": "python",
   "nbconvert_exporter": "python",
   "pygments_lexer": "ipython3",
   "version": "3.11.5"
  }
 },
 "nbformat": 4,
 "nbformat_minor": 2
}
