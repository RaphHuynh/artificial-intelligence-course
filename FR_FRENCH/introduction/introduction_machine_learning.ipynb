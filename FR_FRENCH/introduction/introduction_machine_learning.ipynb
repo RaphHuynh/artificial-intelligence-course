{
 "cells": [
  {
   "cell_type": "markdown",
   "metadata": {},
   "source": [
    "# Introduction aux machine learning / Apprentissage machine\n",
    "\n",
    "Le machine learning est une branche de l'intelligence artificielle qui développe des techniques permettant aux ordinateurs (machines) d'apprendre à partir de données et d'améliorer leurs performances.\n",
    "\n",
    "Le machine learning a pour objectif de répondre à 5 grands problèmes :\n",
    "- La classification\n",
    "- La régression\n",
    "- Les clusters\n",
    "- Les séries temporelles\n",
    "- La réduction de dimension\n",
    "\n",
    "## Classification\n",
    "\n",
    "La classification est un processus qui permet de regroupés en catégories / classes sur des caractéristiques communes des objets, des données, des entités etc.\n",
    "\n",
    "Par exemple :\n",
    "\n",
    "- Un modèle qui fait de la classifcation va pouvoir classer si elle est entrainé pour, des images, des données comme des images pour apprendre à reconnaitre si c'est une fleur ou un arbre.\n",
    "\n",
    "## Régression\n",
    "\n",
    "La régression en IA consiste à entrainer des modèles afin de prédire une valeur numérique en fonction des données d'entrée.\n",
    "\n",
    "Par exemple :\n",
    "\n",
    "- Avec des données de prix de l'immobilié dans une ville on peut avec un modèle de régression essayer de prédire les prix futurs.\n",
    "\n",
    "## Clustering\n",
    "\n",
    "Le clustering est une technique d'apprentissage permettant de regrouper des ensembles de données qui ont des points communs / similitudes en clusters (en groupe de données).\n",
    "\n",
    "Par exemple :\n",
    "\n",
    "- Pour regrouper différents types de clients par rapport à leurs caracteristiques. \n",
    "\n",
    "## Séries temporelles (Times series)\n",
    "\n",
    "Les séries temporelles en IA sont des données qui sont collectées, récupérés ou générées dans un ordre chronologique. Cela permet de faire de la prévision sur une variable par rapport aux temps.\n",
    "\n",
    "Par exemple :\n",
    "\n",
    "- Suivre l'évolution de données météo comme la température afin de faire de la prévision.\n",
    "\n",
    "## Réduction de dimension\n",
    "\n",
    "La réduction de dimension consister à réduire la quantité de données (variables / caractéristiques) qui permettent d'entrainer le modèle. Il permet de réduire le temps de calcul, de simplifier l'analyse des données ou encore de faciliter leurs visualisations.\n",
    "\n",
    "Par exemple :\n",
    "\n",
    "- En reconnaissance faciale les images de visages peuvent être très volumineuses (c'est-à-dire par exemple en 4k). La réduction de dimension dans ce cas précis permet de réduire la dimension de l'image tout en gardant les spéficités importent de celle-ci."
   ]
  }
 ],
 "metadata": {
  "language_info": {
   "name": "python"
  }
 },
 "nbformat": 4,
 "nbformat_minor": 2
}
